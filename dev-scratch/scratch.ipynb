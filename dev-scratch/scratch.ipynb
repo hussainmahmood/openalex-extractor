{
 "cells": [
  {
   "cell_type": "code",
   "execution_count": 18,
   "metadata": {},
   "outputs": [
    {
     "data": {
      "text/html": [
       "<div><style>\n",
       ".dataframe > thead > tr,\n",
       ".dataframe > tbody > tr {\n",
       "  text-align: right;\n",
       "  white-space: pre-wrap;\n",
       "}\n",
       "</style>\n",
       "<small>shape: (200, 11)</small><table border=\"1\" class=\"dataframe\"><thead><tr><th>id</th><th>doi</th><th>openalex_url</th><th>title</th><th>publication_date</th><th>publication_year</th><th>type</th><th>volume</th><th>issue</th><th>citation_count</th><th>reference_count</th></tr><tr><td>str</td><td>str</td><td>str</td><td>str</td><td>str</td><td>i64</td><td>str</td><td>str</td><td>str</td><td>i64</td><td>i64</td></tr></thead><tbody><tr><td>&quot;W2168696093&quot;</td><td>&quot;https://doi.or…</td><td>&quot;https://openal…</td><td>&quot;Computer-Autom…</td><td>&quot;2011-03-01&quot;</td><td>2011</td><td>&quot;article&quot;</td><td>&quot;19&quot;</td><td>&quot;1&quot;</td><td>84</td><td>8</td></tr><tr><td>&quot;W2139177780&quot;</td><td>&quot;https://doi.or…</td><td>&quot;https://openal…</td><td>&quot;A Ripple-Sprea…</td><td>&quot;2011-03-01&quot;</td><td>2011</td><td>&quot;article&quot;</td><td>&quot;19&quot;</td><td>&quot;1&quot;</td><td>30</td><td>15</td></tr><tr><td>&quot;W2117977978&quot;</td><td>&quot;https://doi.or…</td><td>&quot;https://openal…</td><td>&quot;Modeling the P…</td><td>&quot;2011-03-01&quot;</td><td>2011</td><td>&quot;article&quot;</td><td>&quot;19&quot;</td><td>&quot;1&quot;</td><td>13</td><td>34</td></tr><tr><td>&quot;W2108968575&quot;</td><td>&quot;https://doi.or…</td><td>&quot;https://openal…</td><td>&quot;HypE: An Algor…</td><td>&quot;2011-03-01&quot;</td><td>2011</td><td>&quot;article&quot;</td><td>&quot;19&quot;</td><td>&quot;1&quot;</td><td>1586</td><td>8</td></tr><tr><td>&quot;W2049783455&quot;</td><td>&quot;https://doi.or…</td><td>&quot;https://openal…</td><td>&quot;Classification…</td><td>&quot;2011-03-01&quot;</td><td>2011</td><td>&quot;article&quot;</td><td>&quot;19&quot;</td><td>&quot;1&quot;</td><td>18</td><td>24</td></tr><tr><td>&hellip;</td><td>&hellip;</td><td>&hellip;</td><td>&hellip;</td><td>&hellip;</td><td>&hellip;</td><td>&hellip;</td><td>&hellip;</td><td>&hellip;</td><td>&hellip;</td><td>&hellip;</td></tr><tr><td>&quot;W2900399704&quot;</td><td>&quot;https://doi.or…</td><td>&quot;https://openal…</td><td>&quot;Automatic Conf…</td><td>&quot;2019-03-01&quot;</td><td>2019</td><td>&quot;article&quot;</td><td>&quot;27&quot;</td><td>&quot;1&quot;</td><td>11</td><td>17</td></tr><tr><td>&quot;W2899837707&quot;</td><td>&quot;https://doi.or…</td><td>&quot;https://openal…</td><td>&quot;Latin Hypercub…</td><td>&quot;2019-03-01&quot;</td><td>2019</td><td>&quot;article&quot;</td><td>&quot;27&quot;</td><td>&quot;1&quot;</td><td>3</td><td>23</td></tr><tr><td>&quot;W4249638068&quot;</td><td>&quot;https://doi.or…</td><td>&quot;https://openal…</td><td>&quot;Foreword&quot;</td><td>&quot;2019-03-01&quot;</td><td>2019</td><td>&quot;article&quot;</td><td>&quot;27&quot;</td><td>&quot;1&quot;</td><td>4</td><td>0</td></tr><tr><td>&quot;W2908222328&quot;</td><td>&quot;https://doi.or…</td><td>&quot;https://openal…</td><td>&quot;Direct Feature…</td><td>&quot;2019-03-01&quot;</td><td>2019</td><td>&quot;article&quot;</td><td>&quot;27&quot;</td><td>&quot;1&quot;</td><td>12</td><td>35</td></tr><tr><td>&quot;W2904223561&quot;</td><td>&quot;https://doi.or…</td><td>&quot;https://openal…</td><td>&quot;Extending the …</td><td>&quot;2019-03-01&quot;</td><td>2019</td><td>&quot;article&quot;</td><td>&quot;27&quot;</td><td>&quot;1&quot;</td><td>3</td><td>33</td></tr></tbody></table></div>"
      ],
      "text/plain": [
       "shape: (200, 11)\n",
       "┌────────────┬────────────┬────────────┬────────────┬───┬────────┬───────┬────────────┬────────────┐\n",
       "│ id         ┆ doi        ┆ openalex_u ┆ title      ┆ … ┆ volume ┆ issue ┆ citation_c ┆ reference_ │\n",
       "│ ---        ┆ ---        ┆ rl         ┆ ---        ┆   ┆ ---    ┆ ---   ┆ ount       ┆ count      │\n",
       "│ str        ┆ str        ┆ ---        ┆ str        ┆   ┆ str    ┆ str   ┆ ---        ┆ ---        │\n",
       "│            ┆            ┆ str        ┆            ┆   ┆        ┆       ┆ i64        ┆ i64        │\n",
       "╞════════════╪════════════╪════════════╪════════════╪═══╪════════╪═══════╪════════════╪════════════╡\n",
       "│ W216869609 ┆ https://do ┆ https://op ┆ Computer-A ┆ … ┆ 19     ┆ 1     ┆ 84         ┆ 8          │\n",
       "│ 3          ┆ i.org/10.1 ┆ enalex.org ┆ utomated   ┆   ┆        ┆       ┆            ┆            │\n",
       "│            ┆ 162/evco_a ┆ /W21686960 ┆ Evolution  ┆   ┆        ┆       ┆            ┆            │\n",
       "│            ┆ _0…        ┆ 93         ┆ of …       ┆   ┆        ┆       ┆            ┆            │\n",
       "│ W213917778 ┆ https://do ┆ https://op ┆ A Ripple-S ┆ … ┆ 19     ┆ 1     ┆ 30         ┆ 15         │\n",
       "│ 0          ┆ i.org/10.1 ┆ enalex.org ┆ preading   ┆   ┆        ┆       ┆            ┆            │\n",
       "│            ┆ 162/evco_a ┆ /W21391777 ┆ Genetic    ┆   ┆        ┆       ┆            ┆            │\n",
       "│            ┆ _0…        ┆ 80         ┆ Algor…     ┆   ┆        ┆       ┆            ┆            │\n",
       "│ W211797797 ┆ https://do ┆ https://op ┆ Modeling   ┆ … ┆ 19     ┆ 1     ┆ 13         ┆ 34         │\n",
       "│ 8          ┆ i.org/10.1 ┆ enalex.org ┆ the Perfor ┆   ┆        ┆       ┆            ┆            │\n",
       "│            ┆ 162/evco_a ┆ /W21179779 ┆ mance of   ┆   ┆        ┆       ┆            ┆            │\n",
       "│            ┆ _0…        ┆ 78         ┆ Evol…      ┆   ┆        ┆       ┆            ┆            │\n",
       "│ W210896857 ┆ https://do ┆ https://op ┆ HypE: An   ┆ … ┆ 19     ┆ 1     ┆ 1586       ┆ 8          │\n",
       "│ 5          ┆ i.org/10.1 ┆ enalex.org ┆ Algorithm  ┆   ┆        ┆       ┆            ┆            │\n",
       "│            ┆ 162/evco_a ┆ /W21089685 ┆ for Fast   ┆   ┆        ┆       ┆            ┆            │\n",
       "│            ┆ _0…        ┆ 75         ┆ Hype…      ┆   ┆        ┆       ┆            ┆            │\n",
       "│ W204978345 ┆ https://do ┆ https://op ┆ Classifica ┆ … ┆ 19     ┆ 1     ┆ 18         ┆ 24         │\n",
       "│ 5          ┆ i.org/10.1 ┆ enalex.org ┆ tion as    ┆   ┆        ┆       ┆            ┆            │\n",
       "│            ┆ 162/evco_a ┆ /W20497834 ┆ Clustering ┆   ┆        ┆       ┆            ┆            │\n",
       "│            ┆ _0…        ┆ 55         ┆ : A …      ┆   ┆        ┆       ┆            ┆            │\n",
       "│ …          ┆ …          ┆ …          ┆ …          ┆ … ┆ …      ┆ …     ┆ …          ┆ …          │\n",
       "│ W290039970 ┆ https://do ┆ https://op ┆ Automatic  ┆ … ┆ 27     ┆ 1     ┆ 11         ┆ 17         │\n",
       "│ 4          ┆ i.org/10.1 ┆ enalex.org ┆ Configurat ┆   ┆        ┆       ┆            ┆            │\n",
       "│            ┆ 162/evco_a ┆ /W29003997 ┆ ion of     ┆   ┆        ┆       ┆            ┆            │\n",
       "│            ┆ _0…        ┆ 04         ┆ Multi…     ┆   ┆        ┆       ┆            ┆            │\n",
       "│ W289983770 ┆ https://do ┆ https://op ┆ Latin      ┆ … ┆ 27     ┆ 1     ┆ 3          ┆ 23         │\n",
       "│ 7          ┆ i.org/10.1 ┆ enalex.org ┆ Hypercube  ┆   ┆        ┆       ┆            ┆            │\n",
       "│            ┆ 162/evco_a ┆ /W28998377 ┆ Designs    ┆   ┆        ┆       ┆            ┆            │\n",
       "│            ┆ _0…        ┆ 07         ┆ with Bra…  ┆   ┆        ┆       ┆            ┆            │\n",
       "│ W424963806 ┆ https://do ┆ https://op ┆ Foreword   ┆ … ┆ 27     ┆ 1     ┆ 4          ┆ 0          │\n",
       "│ 8          ┆ i.org/10.1 ┆ enalex.org ┆            ┆   ┆        ┆       ┆            ┆            │\n",
       "│            ┆ 162/evco_e ┆ /W42496380 ┆            ┆   ┆        ┆       ┆            ┆            │\n",
       "│            ┆ _0…        ┆ 68         ┆            ┆   ┆        ┆       ┆            ┆            │\n",
       "│ W290822232 ┆ https://do ┆ https://op ┆ Direct     ┆ … ┆ 27     ┆ 1     ┆ 12         ┆ 35         │\n",
       "│ 8          ┆ i.org/10.1 ┆ enalex.org ┆ Feature    ┆   ┆        ┆       ┆            ┆            │\n",
       "│            ┆ 162/evco_a ┆ /W29082223 ┆ Evaluation ┆   ┆        ┆       ┆            ┆            │\n",
       "│            ┆ _0…        ┆ 28         ┆ in Bla…    ┆   ┆        ┆       ┆            ┆            │\n",
       "│ W290422356 ┆ https://do ┆ https://op ┆ Extending  ┆ … ┆ 27     ┆ 1     ┆ 3          ┆ 33         │\n",
       "│ 1          ┆ i.org/10.1 ┆ enalex.org ┆ the “Open- ┆   ┆        ┆       ┆            ┆            │\n",
       "│            ┆ 162/evco_a ┆ /W29042235 ┆ Closed     ┆   ┆        ┆       ┆            ┆            │\n",
       "│            ┆ _0…        ┆ 61         ┆ Princ…     ┆   ┆        ┆       ┆            ┆            │\n",
       "└────────────┴────────────┴────────────┴────────────┴───┴────────┴───────┴────────────┴────────────┘"
      ]
     },
     "execution_count": 18,
     "metadata": {},
     "output_type": "execute_result"
    }
   ],
   "source": [
    "import requests as rq\n",
    "import polars as pl\n",
    "\n",
    "# response = rq.get(\"https://api.openalex.org/works?page=1&per-page=200&filter=primary_location.source.id:s38677346,from_publication_date:2011-01-01,to_publication_date:2020-12-31&sort=publication_year\")\n",
    "\n",
    "json_obj = response.json()\n",
    "works = [{\"id\": work[\"id\"].split(\"/\")[-1], \"doi\": work[\"doi\"], \"openalex_url\": work[\"id\"], \"title\": work[\"title\"], \"publication_date\": work[\"publication_date\"], \"publication_year\": work[\"publication_year\"], \"type\": work[\"type\"], \"volume\": work[\"biblio\"][\"volume\"], \"issue\": work[\"biblio\"][\"issue\"], \"citation_count\": work[\"cited_by_count\"], \"reference_count\": work[\"referenced_works_count\"]} for work in json_obj[\"results\"]]\n",
    "works_df = pl.DataFrame(works)\n",
    "works_df\n",
    "# works_df.filter((pl.col(\"volume\").is_null()) | (pl.col(\"issue\").is_null()))"
   ]
  }
 ],
 "metadata": {
  "kernelspec": {
   "display_name": ".venv",
   "language": "python",
   "name": "python3"
  },
  "language_info": {
   "codemirror_mode": {
    "name": "ipython",
    "version": 3
   },
   "file_extension": ".py",
   "mimetype": "text/x-python",
   "name": "python",
   "nbconvert_exporter": "python",
   "pygments_lexer": "ipython3",
   "version": "3.9.1"
  }
 },
 "nbformat": 4,
 "nbformat_minor": 2
}
